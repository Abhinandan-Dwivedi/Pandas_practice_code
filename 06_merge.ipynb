{
 "cells": [
  {
   "cell_type": "markdown",
   "id": "65609948",
   "metadata": {},
   "source": [
    "### Merging, Joining, and Concatenating DataFrames."
   ]
  },
  {
   "cell_type": "code",
   "execution_count": 1,
   "id": "833c4b46",
   "metadata": {},
   "outputs": [],
   "source": [
    "import pandas as pd\n",
    "\n",
    "# 1. Student Data\n",
    "df_students = pd.DataFrame({\n",
    "    'StudentID': [1, 2, 3, 4, 5],\n",
    "    'StudentName': ['Alice', 'Bob', 'Charlie', 'Diana', 'Eve']\n",
    "})\n",
    "\n",
    "# 2. Enrollment Data (note: StudentID 6 is not in df_students, CourseID 104 is new)\n",
    "df_enrollments = pd.DataFrame({\n",
    "    'EnrollmentID': [1001, 1002, 1003, 1004, 1005, 1006],\n",
    "    'StudentID': [1, 3, 1, 6, 2, 5],\n",
    "    'CourseID': [101, 102, 103, 104, 101, 102],\n",
    "    'Grade': ['A', 'B', 'A-', 'C+', 'B+', 'A']\n",
    "})\n",
    "\n",
    "# 3. Course Data\n",
    "df_courses = pd.DataFrame({\n",
    "    'CourseID': [101, 102, 103, 105], # CourseID 105 is new\n",
    "    'CourseName': ['Math', 'Physics', 'Chemistry', 'History']\n",
    "})"
   ]
  },
  {
   "cell_type": "code",
   "execution_count": 5,
   "id": "eeff18e1",
   "metadata": {},
   "outputs": [
    {
     "name": "stdout",
     "output_type": "stream",
     "text": [
      "   StudentID StudentName  EnrollmentID  CourseID Grade\n",
      "0          1       Alice        1001.0     101.0     A\n",
      "1          1       Alice        1003.0     103.0    A-\n",
      "2          2         Bob        1005.0     101.0    B+\n",
      "3          3     Charlie        1002.0     102.0     B\n",
      "4          4       Diana           NaN       NaN   NaN\n",
      "5          5         Eve        1006.0     102.0     A\n",
      "   StudentID StudentName  EnrollmentID  CourseID Grade CourseName\n",
      "0          1       Alice        1001.0     101.0     A       Math\n",
      "1          1       Alice        1003.0     103.0    A-  Chemistry\n",
      "2          2         Bob        1005.0     101.0    B+       Math\n",
      "3          3     Charlie        1002.0     102.0     B    Physics\n",
      "4          4       Diana           NaN       NaN   NaN        NaN\n",
      "5          5         Eve        1006.0     102.0     A    Physics\n"
     ]
    }
   ],
   "source": [
    "# Merge Student & Enrollment Data\n",
    "d1  = pd.merge(df_students , df_enrollments , on= 'StudentID' , how='left')\n",
    "print(d1)\n",
    "\n",
    "df_full_enrollment_details = pd.merge(d1  , df_courses , on= 'CourseID' , how='left')\n",
    "print(df_full_enrollment_details)"
   ]
  },
  {
   "cell_type": "code",
   "execution_count": null,
   "id": "68f3083b",
   "metadata": {},
   "outputs": [
    {
     "name": "stdout",
     "output_type": "stream",
     "text": [
      "      0  1    2   3       4    5      6    7\n",
      "0  1001  1  101   A  1007.0  4.0  101.0    B\n",
      "1  1002  3  102   B  1008.0  2.0  105.0    A\n",
      "2  1003  1  103  A-     NaN  NaN    NaN  NaN\n",
      "3  1004  6  104  C+     NaN  NaN    NaN  NaN\n",
      "4  1005  2  101  B+     NaN  NaN    NaN  NaN\n",
      "5  1006  5  102   A     NaN  NaN    NaN  NaN\n"
     ]
    }
   ],
   "source": [
    "# Concatenate New Enrollments\n",
    "new_enrollments = pd.DataFrame({\n",
    "    'EnrollmentID': [1007, 1008],\n",
    "    'StudentID': [4, 2],\n",
    "    'CourseID': [101, 105],\n",
    "    'Grade': ['B', 'A']\n",
    "})\n",
    "\n",
    "df_all_enrollment  = pd.concat([df_enrollments , new_enrollments] , ignore_index=True ,axis=0 ) # by defalut it is axis = 0\n",
    "print(df_all_enrollment)"
   ]
  }
 ],
 "metadata": {
  "kernelspec": {
   "display_name": "venv (3.12.2)",
   "language": "python",
   "name": "python3"
  },
  "language_info": {
   "codemirror_mode": {
    "name": "ipython",
    "version": 3
   },
   "file_extension": ".py",
   "mimetype": "text/x-python",
   "name": "python",
   "nbconvert_exporter": "python",
   "pygments_lexer": "ipython3",
   "version": "3.12.2"
  }
 },
 "nbformat": 4,
 "nbformat_minor": 5
}
