{
 "cells": [
  {
   "cell_type": "markdown",
   "id": "035453af",
   "metadata": {},
   "source": [
    "### Group By and Aggregation"
   ]
  },
  {
   "cell_type": "code",
   "execution_count": 3,
   "id": "ec64cf97",
   "metadata": {},
   "outputs": [],
   "source": [
    "import pandas as pd \n",
    "\n",
    "transaction_data = {\n",
    "    'TransactionID': [1, 2, 3, 4, 5, 6, 7, 8, 9, 10, 11, 12],\n",
    "    'CustomerID': [101, 102, 101, 103, 102, 104, 101, 105, 103, 104, 105, 106],\n",
    "    'Product_Type': ['Electronics', 'Books', 'Electronics', 'Clothing', 'Books', 'Electronics', 'Clothing', 'Books', 'Clothing', 'Electronics', 'Books', 'Electronics'],\n",
    "    'Amount_USD': [50.25, 120.00, 75.50, 20.00, 150.00, 80.75, 25.00, 90.00, 30.00, 110.00, 60.00, 200.00],\n",
    "    'Payment_Method': ['Credit Card', 'PayPal', 'Credit Card', 'Cash', 'Credit Card', 'PayPal', 'Cash', 'Credit Card', 'PayPal', 'Cash', 'Credit Card', 'PayPal'],\n",
    "    'Transaction_Month': ['Jan', 'Jan', 'Jan', 'Feb', 'Feb', 'Feb', 'Mar', 'Mar', 'Mar', 'Apr', 'Apr', 'Apr']\n",
    "}\n",
    "df_transaction = pd.DataFrame(transaction_data)\n"
   ]
  },
  {
   "cell_type": "code",
   "execution_count": 9,
   "id": "6b99af44",
   "metadata": {},
   "outputs": [
    {
     "name": "stdout",
     "output_type": "stream",
     "text": [
      "            Pcount   Spend\n",
      "CustomerID                \n",
      "101              3  150.75\n",
      "102              2  270.00\n",
      "103              2   50.00\n",
      "104              2  190.75\n",
      "105              2  150.00\n",
      "106              1  200.00\n"
     ]
    }
   ],
   "source": [
    "# Total Sales per Product Type\n",
    "totalA = df_transaction.groupby('Product_Type')['Amount_USD'].sum()\n",
    "# print(totalA)\n",
    "\n",
    "# Average Transaction Amount by Payment Method:\n",
    "AverageA = df_transaction.groupby('Payment_Method')['Amount_USD'].mean()\n",
    "# print(AverageA)\n",
    "\n",
    "# Monthly Sales and Number of Transactions\n",
    "sales_Tra = df_transaction.groupby( 'Transaction_Month').agg(\n",
    "    Sales = ('Amount_USD' , 'sum'),\n",
    "    transaction  = ('TransactionID', 'size')\n",
    ")\n",
    "# print(sales_Tra)\n",
    "\n",
    "# Customer Purchase Count and Total Spend:\n",
    "customer  = df_transaction.groupby('CustomerID').agg(\n",
    "    Pcount = ('CustomerID' , 'size'),\n",
    "    Spend = ('Amount_USD' , 'sum')\n",
    ")\n",
    "print(customer)\n"
   ]
  }
 ],
 "metadata": {
  "kernelspec": {
   "display_name": "venv (3.12.2)",
   "language": "python",
   "name": "python3"
  },
  "language_info": {
   "codemirror_mode": {
    "name": "ipython",
    "version": 3
   },
   "file_extension": ".py",
   "mimetype": "text/x-python",
   "name": "python",
   "nbconvert_exporter": "python",
   "pygments_lexer": "ipython3",
   "version": "3.12.2"
  }
 },
 "nbformat": 4,
 "nbformat_minor": 5
}
