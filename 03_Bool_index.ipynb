{
 "cells": [
  {
   "cell_type": "markdown",
   "id": "99b750ab",
   "metadata": {},
   "source": [
    "### Boolean Condition \n"
   ]
  },
  {
   "cell_type": "code",
   "execution_count": 3,
   "id": "c46486c7",
   "metadata": {},
   "outputs": [],
   "source": [
    "import pandas as pd \n",
    "sales_data = {\n",
    "    'OrderID': [1001, 1002, 1003, 1004, 1005, 1006, 1007, 1008],\n",
    "    'Product': ['Laptop', 'Mouse', 'Keyboard', 'Laptop', 'Monitor', 'Mouse', 'Keyboard', 'Laptop'],\n",
    "    'Quantity': [1, 2, 1, 1, 1, 3, 2, 1],\n",
    "    'Price_Per_Unit': [1200.00, 25.00, 75.00, 1200.00, 300.00, 25.00, 75.00, 1200.00],\n",
    "    'Region': ['East', 'West', 'North', 'East', 'South', 'West', 'North', 'East'],\n",
    "    'Date': ['2024-01-01', '2024-01-01', '2024-01-02', '2024-01-03', '2024-01-03', '2024-01-04', '2024-01-05', '2024-01-06']\n",
    "}"
   ]
  },
  {
   "cell_type": "code",
   "execution_count": null,
   "id": "b0e15a12",
   "metadata": {},
   "outputs": [
    {
     "name": "stdout",
     "output_type": "stream",
     "text": [
      "0     True\n",
      "1    False\n",
      "2    False\n",
      "3     True\n",
      "4    False\n",
      "5    False\n",
      "6    False\n",
      "7     True\n",
      "Name: Region, dtype: bool\n"
     ]
    }
   ],
   "source": [
    "sales_dataf = pd.DataFrame(sales_data)\n",
    "eastR  = (sales_dataf['Region'] == 'East')  # gives a series of true flase \n",
    "print(eastR)\n",
    "print(sales_dataf[(eastR)])\n",
    "\n",
    "#  More then one condition \n",
    "product = sales_dataf['Product'] =='Laptop' \n",
    "pro = sales_dataf['Product'] == 'Mouse'\n",
    "region = sales_dataf['Region'] == 'West'\n",
    "regn = sales_dataf['Region'] == 'North'\n",
    "\n",
    "filter = sales_dataf[(product | pro) & (region | regn)]\n",
    "\n",
    "print(filter)\n"
   ]
  }
 ],
 "metadata": {
  "kernelspec": {
   "display_name": "venv (3.12.2)",
   "language": "python",
   "name": "python3"
  },
  "language_info": {
   "codemirror_mode": {
    "name": "ipython",
    "version": 3
   },
   "file_extension": ".py",
   "mimetype": "text/x-python",
   "name": "python",
   "nbconvert_exporter": "python",
   "pygments_lexer": "ipython3",
   "version": "3.12.2"
  }
 },
 "nbformat": 4,
 "nbformat_minor": 5
}
