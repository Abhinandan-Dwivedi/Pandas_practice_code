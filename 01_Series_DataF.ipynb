{
 "cells": [
  {
   "cell_type": "markdown",
   "id": "c8999b1d",
   "metadata": {},
   "source": [
    "### Creating Series "
   ]
  },
  {
   "cell_type": "code",
   "execution_count": 2,
   "id": "9f3b42fc",
   "metadata": {},
   "outputs": [],
   "source": [
    "import pandas as pd  "
   ]
  },
  {
   "cell_type": "code",
   "execution_count": 8,
   "id": "08c55c37",
   "metadata": {},
   "outputs": [
    {
     "name": "stdout",
     "output_type": "stream",
     "text": [
      "0    1\n",
      "1    2\n",
      "2    3\n",
      "3    4\n",
      "4    5\n",
      "5    6\n",
      "dtype: int64\n",
      "abhi      1\n",
      "gorang    2\n",
      "anuj      3\n",
      "naresh    4\n",
      "ayush     5\n",
      "hitesh    6\n",
      "dtype: int64\n",
      "abhi    61\n",
      "abh     62\n",
      "ab      63\n",
      "a       64\n",
      "dtype: int64\n",
      "1\n"
     ]
    }
   ],
   "source": [
    "# creating from list \n",
    "list  = [1,2,3,4,5,6]\n",
    "ind = [\"abhi\", \"gorang\" ,\"anuj\", \"naresh\" ,\"ayush\", \"hitesh\" ]\n",
    "series = pd.Series(list)\n",
    "print(series)\n",
    "\n",
    "# custum indexing \n",
    "series = pd.Series(list , index=ind )\n",
    "print(series)\n",
    "\n",
    "# Creating from dictionary \n",
    "dict = { \n",
    "    'abhi' : 61,\n",
    "    'abh' : 62,\n",
    "    'ab' : 63,\n",
    "    'a' : 64\n",
    "}\n",
    "print(pd.Series(dict))\n",
    "print(series['abhi'])"
   ]
  },
  {
   "cell_type": "markdown",
   "id": "de9620a6",
   "metadata": {},
   "source": [
    "### DataFrame"
   ]
  },
  {
   "cell_type": "code",
   "execution_count": null,
   "id": "219eee9b",
   "metadata": {},
   "outputs": [
    {
     "name": "stdout",
     "output_type": "stream",
     "text": [
      "      Name  Age      City  Salary\n",
      "0    Alice   25  New York   70000\n",
      "1      Bob   30    London   80000\n",
      "2  Charlie   35     Paris   95000\n",
      "3    David   28  New York   72000\n",
      "<class 'pandas.core.frame.DataFrame'>\n"
     ]
    }
   ],
   "source": [
    "#  From dictionary \n",
    "dict = {\n",
    "    'Name': ['Alice', 'Bob', 'Charlie', 'David'],\n",
    "    'Age': [25, 30, 35, 28],\n",
    "    'City': ['New York', 'London', 'Paris', 'New York'],\n",
    "    'Salary': [70000, 80000, 95000, 72000]    \n",
    "}\n",
    "dataf = pd.DataFrame(dict)\n",
    "print (dataf) \n",
    "print(type(dataf))\n",
    "# custom indexing "
   ]
  }
 ],
 "metadata": {
  "kernelspec": {
   "display_name": "venv (3.12.2)",
   "language": "python",
   "name": "python3"
  },
  "language_info": {
   "codemirror_mode": {
    "name": "ipython",
    "version": 3
   },
   "file_extension": ".py",
   "mimetype": "text/x-python",
   "name": "python",
   "nbconvert_exporter": "python",
   "pygments_lexer": "ipython3",
   "version": "3.12.2"
  }
 },
 "nbformat": 4,
 "nbformat_minor": 5
}
