{
 "cells": [
  {
   "cell_type": "markdown",
   "id": "b0a40832",
   "metadata": {},
   "source": [
    "### Reading CSV file in DataFrame"
   ]
  },
  {
   "cell_type": "code",
   "execution_count": null,
   "id": "927209bc",
   "metadata": {},
   "outputs": [
    {
     "name": "stdout",
     "output_type": "stream",
     "text": [
      "      Name  Age      City Occupation\n",
      "0    Alice   25  New York   Engineer\n",
      "1      Bob   30    London   Designer\n",
      "2  Charlie   35     Paris     Doctor\n",
      "3    David   28  New York     Artist\n",
      "4      Eve   40    London    Manager\n"
     ]
    }
   ],
   "source": [
    "import pandas as pd \n",
    "dataf = pd.read_csv('sample_data.csv')\n",
    "print(dataf)"
   ]
  },
  {
   "cell_type": "markdown",
   "id": "1507af46",
   "metadata": {},
   "source": [
    "### Operations"
   ]
  },
  {
   "cell_type": "code",
   "execution_count": 11,
   "id": "a798f825",
   "metadata": {},
   "outputs": [
    {
     "name": "stdout",
     "output_type": "stream",
     "text": [
      "<class 'pandas.core.frame.DataFrame'>\n",
      "RangeIndex: 5 entries, 0 to 4\n",
      "Data columns (total 4 columns):\n",
      " #   Column      Non-Null Count  Dtype \n",
      "---  ------      --------------  ----- \n",
      " 0   Name        5 non-null      object\n",
      " 1   Age         5 non-null      object\n",
      " 2   City        5 non-null      object\n",
      " 3   Occupation  5 non-null      object\n",
      "dtypes: object(4)\n",
      "memory usage: 292.0+ bytes\n"
     ]
    }
   ],
   "source": [
    "# 3 initial row\n",
    "# dataf.head(3)\n",
    "# # last 3 row\n",
    "# dataf.tail(3)\n",
    "\n",
    "dataf.info()"
   ]
  },
  {
   "cell_type": "code",
   "execution_count": null,
   "id": "b39d150d",
   "metadata": {},
   "outputs": [
    {
     "data": {
      "text/html": [
       "<div>\n",
       "<style scoped>\n",
       "    .dataframe tbody tr th:only-of-type {\n",
       "        vertical-align: middle;\n",
       "    }\n",
       "\n",
       "    .dataframe tbody tr th {\n",
       "        vertical-align: top;\n",
       "    }\n",
       "\n",
       "    .dataframe thead th {\n",
       "        text-align: right;\n",
       "    }\n",
       "</style>\n",
       "<table border=\"1\" class=\"dataframe\">\n",
       "  <thead>\n",
       "    <tr style=\"text-align: right;\">\n",
       "      <th></th>\n",
       "      <th>Age</th>\n",
       "    </tr>\n",
       "  </thead>\n",
       "  <tbody>\n",
       "    <tr>\n",
       "      <th>count</th>\n",
       "      <td>5.00000</td>\n",
       "    </tr>\n",
       "    <tr>\n",
       "      <th>mean</th>\n",
       "      <td>31.60000</td>\n",
       "    </tr>\n",
       "    <tr>\n",
       "      <th>std</th>\n",
       "      <td>5.94138</td>\n",
       "    </tr>\n",
       "    <tr>\n",
       "      <th>min</th>\n",
       "      <td>25.00000</td>\n",
       "    </tr>\n",
       "    <tr>\n",
       "      <th>25%</th>\n",
       "      <td>28.00000</td>\n",
       "    </tr>\n",
       "    <tr>\n",
       "      <th>50%</th>\n",
       "      <td>30.00000</td>\n",
       "    </tr>\n",
       "    <tr>\n",
       "      <th>75%</th>\n",
       "      <td>35.00000</td>\n",
       "    </tr>\n",
       "    <tr>\n",
       "      <th>max</th>\n",
       "      <td>40.00000</td>\n",
       "    </tr>\n",
       "  </tbody>\n",
       "</table>\n",
       "</div>"
      ],
      "text/plain": [
       "            Age\n",
       "count   5.00000\n",
       "mean   31.60000\n",
       "std     5.94138\n",
       "min    25.00000\n",
       "25%    28.00000\n",
       "50%    30.00000\n",
       "75%    35.00000\n",
       "max    40.00000"
      ]
     },
     "execution_count": 22,
     "metadata": {},
     "output_type": "execute_result"
    }
   ],
   "source": [
    "# The describe() statistics of dataf int64 colomn\n",
    "dataf.describe() "
   ]
  },
  {
   "cell_type": "code",
   "execution_count": 27,
   "id": "78e44ee5",
   "metadata": {},
   "outputs": [
    {
     "data": {
      "text/plain": [
       "RangeIndex(start=0, stop=5, step=1)"
      ]
     },
     "execution_count": 27,
     "metadata": {},
     "output_type": "execute_result"
    }
   ],
   "source": [
    "dataf.shape\n",
    "dataf.dtypes   \n",
    "dataf.columns\n",
    "dataf.index"
   ]
  },
  {
   "cell_type": "markdown",
   "id": "2072a4ee",
   "metadata": {},
   "source": [
    "### Indexing and Selection"
   ]
  },
  {
   "cell_type": "code",
   "execution_count": null,
   "id": "af4ed8d0",
   "metadata": {},
   "outputs": [
    {
     "name": "stdout",
     "output_type": "stream",
     "text": [
      "Alice\n",
      "<class 'pandas.core.frame.DataFrame'>\n"
     ]
    }
   ],
   "source": [
    "#  selection of colomn \n",
    "name = dataf['Name'] # a series of name\n",
    "print(name[0]) # Alice \n",
    "na = dataf[['Name', 'Age']]  # dataframe of name age\n",
    "# print(type(na))\n"
   ]
  },
  {
   "cell_type": "markdown",
   "id": "f57a92d1",
   "metadata": {},
   "source": [
    "#### Row selection\n",
    "The .iloc[] (integer-location based indexing) "
   ]
  },
  {
   "cell_type": "code",
   "execution_count": null,
   "id": "9b82e5b5",
   "metadata": {},
   "outputs": [
    {
     "name": "stdout",
     "output_type": "stream",
     "text": [
      "Name          Charlie\n",
      "Age                35\n",
      "City            Paris\n",
      "Occupation     Doctor\n",
      "Name: 2, dtype: object\n",
      "New York\n"
     ]
    }
   ],
   "source": [
    "# df.iloc[row_index_or_slice, col_index_or_slice]\n",
    "# row_index_or_slice: An integer, a list of integers, or a slice (e.g., 0, [0, 2, 4], 0:5).\n",
    "# col_index_or_slice: An integer, a list of integers, or a slice (e.g., 0, [0, 2], 0:2). You can\n",
    "\n",
    "row2nd = dataf.iloc[2]  # a series of 2nd row with colomn indexing\n",
    "print(row2nd)\n",
    "# print(row2nd['Name'])\n",
    "\n",
    "element = dataf.iloc[0,2]  \n",
    "print(element)"
   ]
  },
  {
   "cell_type": "code",
   "execution_count": null,
   "id": "9fd2d4b6",
   "metadata": {},
   "outputs": [
    {
     "name": "stdout",
     "output_type": "stream",
     "text": [
      "    Name  Age Occupation\n",
      "0  Alice   25   Engineer\n",
      "4    Eve   40    Manager\n"
     ]
    }
   ],
   "source": [
    "# Select rows at positions 0 and 4, and columns at positions 0, 1, and 3\n",
    "specific_data = dataf.iloc[[0, 4], [0, 1, 3]]\n",
    "print(specific_data)\n",
    "\n"
   ]
  },
  {
   "cell_type": "markdown",
   "id": "bd3ef0e3",
   "metadata": {},
   "source": [
    "#### The .loc[] (label-based indexing) \n",
    "df.loc[row_label_or_slice, col_label_or_slice]"
   ]
  },
  {
   "cell_type": "code",
   "execution_count": 61,
   "id": "516f6763",
   "metadata": {},
   "outputs": [
    {
     "name": "stdout",
     "output_type": "stream",
     "text": [
      "35\n",
      "         Age      City Occupation\n",
      "Name                             \n",
      "Alice     25  New York   Engineer\n",
      "Bob       30    London   Designer\n",
      "Charlie   35     Paris     Doctor\n",
      "David     28  New York     Artist\n",
      "Eve       40    London    Manager\n",
      "       Age\n",
      "Name      \n",
      "Alice   25\n",
      "David   28\n"
     ]
    }
   ],
   "source": [
    "lbased = dataf.loc[2,'Age']\n",
    "print(lbased)\n",
    "\n",
    "# custom indexing\n",
    "data_name = dataf.set_index('Name')\n",
    "print(data_name)\n",
    "\n",
    "lbased  = data_name.loc[['Alice' ,'David'] , ['Age']]\n",
    "print(lbased)"
   ]
  }
 ],
 "metadata": {
  "kernelspec": {
   "display_name": "venv (3.12.2)",
   "language": "python",
   "name": "python3"
  },
  "language_info": {
   "codemirror_mode": {
    "name": "ipython",
    "version": 3
   },
   "file_extension": ".py",
   "mimetype": "text/x-python",
   "name": "python",
   "nbconvert_exporter": "python",
   "pygments_lexer": "ipython3",
   "version": "3.12.2"
  }
 },
 "nbformat": 4,
 "nbformat_minor": 5
}
