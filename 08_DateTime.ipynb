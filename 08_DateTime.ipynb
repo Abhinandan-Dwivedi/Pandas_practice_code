{
 "cells": [
  {
   "cell_type": "markdown",
   "id": "f55bce6e",
   "metadata": {},
   "source": [
    "### Working with Dates and Times (Datetime Objects)"
   ]
  },
  {
   "cell_type": "code",
   "execution_count": 2,
   "id": "072ec0c5",
   "metadata": {},
   "outputs": [
    {
     "name": "stdout",
     "output_type": "stream",
     "text": [
      "   EventID            Timestamp EventType  UserID\n",
      "0        1  2024-03-01 08:00:00     Login     101\n",
      "1        2  2024-03-01 14:15:30    Logout     101\n",
      "2        3  2024-03-02 09:00:00     Login     102\n",
      "3        4  2024-03-03 10:30:00     Error     103\n",
      "4        5  2024-03-04 11:00:00     Login     101\n",
      "5        6  2024-03-04 17:45:00     Login     104\n",
      "6        7  2024-03-05 08:30:00    Logout     102\n"
     ]
    }
   ],
   "source": [
    "import pandas as pd\n",
    "import numpy as np\n",
    "\n",
    "event_log_data = {\n",
    "    'EventID': [1, 2, 3, 4, 5, 6, 7],\n",
    "    'Timestamp': [\n",
    "        '2024-03-01 08:00:00',\n",
    "        '2024-03-01 14:15:30',\n",
    "        '2024-03-02 09:00:00',\n",
    "        '2024-03-03 10:30:00', # Sunday\n",
    "        '2024-03-04 11:00:00',\n",
    "        '2024-03-04 17:45:00',\n",
    "        '2024-03-05 08:30:00'\n",
    "    ],\n",
    "    'EventType': ['Login', 'Logout', 'Login', 'Error', 'Login', 'Login', 'Logout'],\n",
    "    'UserID': [101, 101, 102, 103, 101, 104, 102]\n",
    "}\n",
    "df_events = pd.DataFrame(event_log_data)\n",
    "print(df_events)"
   ]
  },
  {
   "cell_type": "code",
   "execution_count": 3,
   "id": "a60abc78",
   "metadata": {},
   "outputs": [
    {
     "name": "stdout",
     "output_type": "stream",
     "text": [
      "0      Friday\n",
      "1      Friday\n",
      "2    Saturday\n",
      "3      Sunday\n",
      "4      Monday\n",
      "5      Monday\n",
      "6     Tuesday\n",
      "Name: Timestamp, dtype: object\n"
     ]
    }
   ],
   "source": [
    "# Convert to Datetime: \n",
    "datetimeobj = pd.to_datetime(df_events['Timestamp'],  format='%Y-%m-%d %H:%M:%S')\n",
    "df_events['Timestamp'] = datetimeobj\n",
    "# print(type(df_events))\n",
    "\n",
    "# Extract Hour: Create a new column Event_Hour containing only the hour of the event\n",
    "hour = df_events['Timestamp'].dt.hour\n",
    "df_events['hour'] = hour;\n",
    "# print(hour)\n",
    "\n",
    "# Extract Day of Week Name\n",
    "day_name_str = df_events['Timestamp'].dt.day_name()\n",
    "print(day_name_str)"
   ]
  },
  {
   "cell_type": "code",
   "execution_count": null,
   "id": "a32cf9e7",
   "metadata": {},
   "outputs": [
    {
     "name": "stdout",
     "output_type": "stream",
     "text": [
      "                     EventID EventType  UserID  hour\n",
      "Timestamp                                           \n",
      "2024-03-01 14:15:30        2    Logout     101    14\n",
      "2024-03-02 09:00:00        3     Login     102     9\n",
      "2024-03-03 10:30:00        4     Error     103    10\n",
      "2024-03-04 11:00:00        5     Login     101    11\n",
      "   EventID           Timestamp EventType  UserID  hour\n",
      "1        2 2024-03-01 14:15:30    Logout     101    14\n",
      "2        3 2024-03-02 09:00:00     Login     102     9\n",
      "3        4 2024-03-03 10:30:00     Error     103    10\n",
      "4        5 2024-03-04 11:00:00     Login     101    11\n"
     ]
    }
   ],
   "source": [
    "# Filter by Time\n",
    "df_ind_datetime =  df_events.set_index('Timestamp')\n",
    "# print(df_ind_datetime)\n",
    "\n",
    "# Filter by Time\n",
    "df_9_5_event = df_ind_datetime.between_time('09:00:00' , '17:00:00')\n",
    "print(df_9_5_event)\n",
    "# another way using condition \n",
    "df_working_hour = df_events[(df_events['hour'] >= 9) & (df_events['hour'] < 17)] \n",
    "print(df_working_hour)\n"
   ]
  },
  {
   "cell_type": "code",
   "execution_count": 10,
   "id": "3465de95",
   "metadata": {},
   "outputs": [
    {
     "name": "stdout",
     "output_type": "stream",
     "text": [
      "Timestamp\n",
      "2024-03-01    2\n",
      "2024-03-02    1\n",
      "2024-03-03    1\n",
      "2024-03-04    2\n",
      "2024-03-05    1\n",
      "Freq: D, dtype: int64\n"
     ]
    }
   ],
   "source": [
    "# Set as Index & Resample\n",
    "df_resample = df_ind_datetime.resample('D').size()\n",
    "print(df_resample)\n"
   ]
  }
 ],
 "metadata": {
  "kernelspec": {
   "display_name": "venv (3.12.2)",
   "language": "python",
   "name": "python3"
  },
  "language_info": {
   "codemirror_mode": {
    "name": "ipython",
    "version": 3
   },
   "file_extension": ".py",
   "mimetype": "text/x-python",
   "name": "python",
   "nbconvert_exporter": "python",
   "pygments_lexer": "ipython3",
   "version": "3.12.2"
  }
 },
 "nbformat": 4,
 "nbformat_minor": 5
}
