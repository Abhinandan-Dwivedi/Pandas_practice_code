{
 "cells": [
  {
   "cell_type": "markdown",
   "id": "e416addb",
   "metadata": {},
   "source": [
    "### Reshaping Data."
   ]
  },
  {
   "cell_type": "markdown",
   "id": "068f2601",
   "metadata": {},
   "source": [
    "#### pivot_table(), melt() and briefly touch upon stack()/unstack()."
   ]
  },
  {
   "cell_type": "code",
   "execution_count": 4,
   "id": "f0b5ddd3",
   "metadata": {},
   "outputs": [
    {
     "name": "stdout",
     "output_type": "stream",
     "text": [
      "   Household  Jan_Expense  Feb_Expense  Mar_Expense    Personal  Jan_Personal  \\\n",
      "0       Rent         1200         1200         1200  Dining Out           150   \n",
      "1  Groceries          300          350          320    Shopping           100   \n",
      "\n",
      "   Feb_Personal  Mar_Personal  \n",
      "0           180           160  \n",
      "1           120           110  \n"
     ]
    }
   ],
   "source": [
    "import pandas as pd \n",
    "expense_data = {\n",
    "    'Household': ['Rent', 'Groceries'],\n",
    "    'Jan_Expense': [1200, 300],\n",
    "    'Feb_Expense': [1200, 350],\n",
    "    'Mar_Expense': [1200, 320],\n",
    "    'Personal': ['Dining Out', 'Shopping'],\n",
    "    'Jan_Personal': [150, 100],\n",
    "    'Feb_Personal': [180, 120],\n",
    "    'Mar_Personal': [160, 110]\n",
    "}\n",
    "df_expenses = pd.DataFrame(expense_data)\n",
    "print(df_expenses)\n",
    " "
   ]
  },
  {
   "cell_type": "code",
   "execution_count": null,
   "id": "6538b277",
   "metadata": {},
   "outputs": [
    {
     "name": "stdout",
     "output_type": "stream",
     "text": [
      "   Household        Month  vlaue\n",
      "0       Rent  Jan_Expense   1200\n",
      "1  Groceries  Jan_Expense    300\n",
      "2       Rent  Feb_Expense   1200\n",
      "3  Groceries  Feb_Expense    350\n",
      "4       Rent  Mar_Expense   1200\n",
      "5  Groceries  Mar_Expense    320\n"
     ]
    }
   ],
   "source": [
    "# Melt Household Expenses\n",
    "df_household_long  = pd.melt(\n",
    "                     df_expenses,\n",
    "                     id_vars='Household', \n",
    "                     value_vars=['Jan_Expense' , 'Feb_Expense', 'Mar_Expense'] , \n",
    "                     var_name = 'Month' , \n",
    "                     value_name= 'vlaue')\n",
    "print(df_household_long)"
   ]
  },
  {
   "cell_type": "code",
   "execution_count": 9,
   "id": "9dd35937",
   "metadata": {},
   "outputs": [
    {
     "name": "stdout",
     "output_type": "stream",
     "text": [
      "     Personal         Month  value\n",
      "0  Dining Out  Jan_Personal    150\n",
      "1    Shopping  Jan_Personal    100\n",
      "2  Dining Out  Feb_Personal    180\n",
      "3    Shopping  Feb_Personal    120\n",
      "4  Dining Out  Mar_Personal    160\n",
      "5    Shopping  Mar_Personal    110\n"
     ]
    }
   ],
   "source": [
    "# Melt Personal Expenses\n",
    "valueVars = ['Jan_Personal' , 'Feb_Personal' ,'Mar_Personal']\n",
    "df_personal_long = pd.melt(df_expenses ,\n",
    "                           id_vars='Personal',\n",
    "                           value_vars=valueVars,\n",
    "                           var_name='Month',\n",
    "                           value_name='value')\n",
    "print(df_personal_long)"
   ]
  },
  {
   "cell_type": "code",
   "execution_count": 13,
   "id": "8a78ca70",
   "metadata": {},
   "outputs": [
    {
     "name": "stdout",
     "output_type": "stream",
     "text": [
      "    Household         Month   vlaue Expence_categary    Personal  value\n",
      "0        Rent   Jan_Expense  1200.0        Household         NaN    NaN\n",
      "1   Groceries   Jan_Expense   300.0        Household         NaN    NaN\n",
      "2        Rent   Feb_Expense  1200.0        Household         NaN    NaN\n",
      "3   Groceries   Feb_Expense   350.0        Household         NaN    NaN\n",
      "4        Rent   Mar_Expense  1200.0        Household         NaN    NaN\n",
      "5   Groceries   Mar_Expense   320.0        Household         NaN    NaN\n",
      "6         NaN  Jan_Personal     NaN         Personal  Dining Out  150.0\n",
      "7         NaN  Jan_Personal     NaN         Personal    Shopping  100.0\n",
      "8         NaN  Feb_Personal     NaN         Personal  Dining Out  180.0\n",
      "9         NaN  Feb_Personal     NaN         Personal    Shopping  120.0\n",
      "10        NaN  Mar_Personal     NaN         Personal  Dining Out  160.0\n",
      "11        NaN  Mar_Personal     NaN         Personal    Shopping  110.0\n"
     ]
    }
   ],
   "source": [
    "# Combine Long DataFrames\n",
    "df_household_long['Expence_categary'] = 'Household'\n",
    "df_personal_long['Expence_categary'] = 'Personal'\n",
    "# print(df_personal_long)\n",
    "# print(df_household_long)\n",
    " \n",
    "df_all_long = pd.concat([df_household_long, df_personal_long] ,ignore_index=1, axis=0)\n",
    "print(df_all_long)"
   ]
  }
 ],
 "metadata": {
  "kernelspec": {
   "display_name": "venv (3.12.2)",
   "language": "python",
   "name": "python3"
  },
  "language_info": {
   "codemirror_mode": {
    "name": "ipython",
    "version": 3
   },
   "file_extension": ".py",
   "mimetype": "text/x-python",
   "name": "python",
   "nbconvert_exporter": "python",
   "pygments_lexer": "ipython3",
   "version": "3.12.2"
  }
 },
 "nbformat": 4,
 "nbformat_minor": 5
}
